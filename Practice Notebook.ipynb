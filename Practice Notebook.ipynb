{
 "cells": [
  {
   "cell_type": "markdown",
   "id": "a77ca3c2",
   "metadata": {},
   "source": [
    "### Steps to Follow"
   ]
  },
  {
   "cell_type": "markdown",
   "id": "a0a187c2",
   "metadata": {},
   "source": [
    "1. importing necessary libraries\n",
    "2. creating s3 bucket\n",
    "3. mapping train and test data in s3\n",
    "4. mapping path of the models in s3"
   ]
  },
  {
   "cell_type": "code",
   "execution_count": 44,
   "id": "cb632fdc",
   "metadata": {},
   "outputs": [],
   "source": [
    "#importing libraries\n",
    "import sagemaker\n",
    "import boto3\n",
    "from sagemaker.amazon.amazon_estimator import get_image_uri\n",
    "from sagemaker.session import s3_input, Session"
   ]
  },
  {
   "cell_type": "code",
   "execution_count": 45,
   "id": "33c1ca00",
   "metadata": {},
   "outputs": [
    {
     "name": "stdout",
     "output_type": "stream",
     "text": [
      "us-east-2\n"
     ]
    }
   ],
   "source": [
    "bucket_name = 'bankapplicationd'\n",
    "my_region = boto3.session.Session().region_name\n",
    "print(my_region)"
   ]
  },
  {
   "cell_type": "code",
   "execution_count": 46,
   "id": "9e994db8",
   "metadata": {},
   "outputs": [
    {
     "name": "stdout",
     "output_type": "stream",
     "text": [
      "S3 bucket created successfully\n"
     ]
    }
   ],
   "source": [
    "s3 = boto3.resource('s3')\n",
    "try:\n",
    "    if  my_region == 'us-east-1':\n",
    "        s3.create_bucket(Bucket=bucket_name)\n",
    "    print('S3 bucket created successfully')\n",
    "except Exception as e:\n",
    "    print('S3 error: ',e)"
   ]
  },
  {
   "cell_type": "code",
   "execution_count": 47,
   "id": "3e447161",
   "metadata": {},
   "outputs": [
    {
     "name": "stdout",
     "output_type": "stream",
     "text": [
      "s3://bankapplicationd/xgboost-as-a-built-in-algo/output\n"
     ]
    }
   ],
   "source": [
    "prefix = 'xgboost-as-a-built-in-algo'\n",
    "output_path = 's3://{}/{}/output'.format(bucket_name, prefix)\n",
    "print(output_path)    "
   ]
  },
  {
   "cell_type": "code",
   "execution_count": 48,
   "id": "8a761594",
   "metadata": {},
   "outputs": [
    {
     "name": "stdout",
     "output_type": "stream",
     "text": [
      "Success: downloaded bank_clean.csv.\n",
      "Success: Data loaded into dataframe.\n"
     ]
    }
   ],
   "source": [
    "import pandas as pd\n",
    "import urllib\n",
    "try:\n",
    "    urllib.request.urlretrieve (\"https://d1.awsstatic.com/tmt/build-train-deploy-machine-learning-model-sagemaker/bank_clean.27f01fbbdf43271788427f3682996ae29ceca05d.csv\", \"bank_clean.csv\")\n",
    "    print('Success: downloaded bank_clean.csv.')\n",
    "except Exception as e:\n",
    "    print('Data load error: ',e)\n",
    "\n",
    "try:\n",
    "    model_data = pd.read_csv('./bank_clean.csv',index_col=0)\n",
    "    print('Success: Data loaded into dataframe.')\n",
    "except Exception as e:\n",
    "    print('Data load error: ',e)"
   ]
  },
  {
   "cell_type": "code",
   "execution_count": 49,
   "id": "d4661de8",
   "metadata": {},
   "outputs": [
    {
     "name": "stdout",
     "output_type": "stream",
     "text": [
      "(28831, 61) (12357, 61)\n"
     ]
    }
   ],
   "source": [
    "### Train Test split\n",
    "\n",
    "import numpy as np\n",
    "train_data, test_data = np.split(model_data.sample(frac=1, random_state=1729), [int(0.7 * len(model_data))])\n",
    "print(train_data.shape, test_data.shape)"
   ]
  },
  {
   "cell_type": "code",
   "execution_count": 50,
   "id": "d07d00cd",
   "metadata": {},
   "outputs": [],
   "source": [
    "### Saving Train And Test Into Buckets\n",
    "## We start with Train Data\n",
    "import os\n",
    "pd.concat([train_data['y_yes'], train_data.drop(['y_no', 'y_yes'], \n",
    "                                                axis=1)], \n",
    "                                                axis=1).to_csv('train.csv', index=False, header=False)\n",
    "boto3.Session().resource('s3').Bucket(bucket_name).Object(os.path.join(prefix, 'train/train.csv')).upload_file('train.csv')\n",
    "s3_input_train = sagemaker.TrainingInput(s3_data='s3://{}/{}/train'.format(bucket_name, prefix), content_type='csv')"
   ]
  },
  {
   "cell_type": "code",
   "execution_count": 51,
   "id": "6b6d1091",
   "metadata": {},
   "outputs": [],
   "source": [
    "#Test data into buckets\n",
    "pd.concat([test_data['y_yes'], test_data.drop(['y_no','y_yes'], axis = 1)], axis = 1).to_csv('test.csv',\n",
    "                                                                                            index = False, header = False)\n",
    "boto3.Session().resource('s3').Bucket(bucket_name).Object(os.path.join(prefix, 'test/test.csv')).upload_file('test.csv')\n",
    "s3_input_test = sagemaker.TrainingInput(s3_data = 's3://{}/{}/test'.format(bucket_name, prefix), content_type = 'csv')"
   ]
  },
  {
   "cell_type": "markdown",
   "id": "b01c50c9",
   "metadata": {},
   "source": [
    "### Building and Training Models XgBoost Algorithm"
   ]
  },
  {
   "cell_type": "code",
   "execution_count": 52,
   "id": "69189283",
   "metadata": {},
   "outputs": [],
   "source": [
    "container = sagemaker.image_uris.retrieve('xgboost',\n",
    "                                          boto3.Session().region_name,\n",
    "                                          version = '1.0-1')"
   ]
  },
  {
   "cell_type": "code",
   "execution_count": 56,
   "id": "ea5581d5",
   "metadata": {},
   "outputs": [],
   "source": [
    "# initialize hyperparameters\n",
    "hyperparameters = {\n",
    "        \"max_depth\":\"5\",\n",
    "        \"eta\":\"0.2\",\n",
    "        \"gamma\":\"4\",\n",
    "        \"min_child_weight\":\"6\",\n",
    "        \"subsample\":\"0.7\",\n",
    "        \"objective\":\"binary:logistic\",\n",
    "        \"num_round\":50\n",
    "        }"
   ]
  },
  {
   "cell_type": "code",
   "execution_count": 57,
   "id": "1f840637",
   "metadata": {},
   "outputs": [],
   "source": [
    "# construct a SageMaker estimator that calls the xgboost-container\n",
    "estimator = sagemaker.estimator.Estimator(image_uri=container, \n",
    "                                          hyperparameters=hyperparameters,\n",
    "                                          role=sagemaker.get_execution_role(),\n",
    "                                          instance_count=1, \n",
    "                                          instance_type='ml.m5.2xlarge', \n",
    "                                          volume_size=5, # 5 GB \n",
    "                                          output_path=output_path,\n",
    "                                          use_spot_instances=True,\n",
    "                                          max_run=300,\n",
    "                                          max_wait=600)"
   ]
  },
  {
   "cell_type": "code",
   "execution_count": 58,
   "id": "68cb164d",
   "metadata": {},
   "outputs": [
    {
     "name": "stdout",
     "output_type": "stream",
     "text": [
      "2022-09-12 21:05:22 Starting - Starting the training job...\n",
      "2022-09-12 21:05:45 Starting - Preparing the instances for trainingProfilerReport-1663016722: InProgress\n",
      "......\n",
      "2022-09-12 21:06:46 Downloading - Downloading input data...\n",
      "2022-09-12 21:07:06 Training - Downloading the training image...\n",
      "2022-09-12 21:07:51 Uploading - Uploading generated training model\u001b[34mINFO:sagemaker-containers:Imported framework sagemaker_xgboost_container.training\u001b[0m\n",
      "\u001b[34mINFO:sagemaker-containers:Failed to parse hyperparameter objective value binary:logistic to Json.\u001b[0m\n",
      "\u001b[34mReturning the value itself\u001b[0m\n",
      "\u001b[34mINFO:sagemaker-containers:No GPUs detected (normal if no gpus installed)\u001b[0m\n",
      "\u001b[34mINFO:sagemaker_xgboost_container.training:Running XGBoost Sagemaker in algorithm mode\u001b[0m\n",
      "\u001b[34mINFO:root:Determined delimiter of CSV input is ','\u001b[0m\n",
      "\u001b[34mINFO:root:Determined delimiter of CSV input is ','\u001b[0m\n",
      "\u001b[34mINFO:root:Determined delimiter of CSV input is ','\u001b[0m\n",
      "\u001b[34m[21:07:38] 28831x59 matrix with 1701029 entries loaded from /opt/ml/input/data/train?format=csv&label_column=0&delimiter=,\u001b[0m\n",
      "\u001b[34mINFO:root:Determined delimiter of CSV input is ','\u001b[0m\n",
      "\u001b[34m[21:07:39] 12357x59 matrix with 729063 entries loaded from /opt/ml/input/data/validation?format=csv&label_column=0&delimiter=,\u001b[0m\n",
      "\u001b[34mINFO:root:Single node training.\u001b[0m\n",
      "\u001b[34m[2022-09-12 21:07:39.009 ip-10-0-167-53.us-east-2.compute.internal:1 INFO json_config.py:90] Creating hook from json_config at /opt/ml/input/config/debughookconfig.json.\u001b[0m\n",
      "\u001b[34m[2022-09-12 21:07:39.010 ip-10-0-167-53.us-east-2.compute.internal:1 INFO hook.py:151] tensorboard_dir has not been set for the hook. SMDebug will not be exporting tensorboard summaries.\u001b[0m\n",
      "\u001b[34m[2022-09-12 21:07:39.010 ip-10-0-167-53.us-east-2.compute.internal:1 INFO hook.py:196] Saving to /opt/ml/output/tensors\u001b[0m\n",
      "\u001b[34mINFO:root:Debug hook created from config\u001b[0m\n",
      "\u001b[34mINFO:root:Train matrix has 28831 rows\u001b[0m\n",
      "\u001b[34mINFO:root:Validation matrix has 12357 rows\u001b[0m\n",
      "\u001b[34m[21:07:39] WARNING: /workspace/src/learner.cc:328: \u001b[0m\n",
      "\u001b[34mParameters: { num_round } might not be used.\n",
      "  This may not be accurate due to some parameters are only used in language bindings but\n",
      "  passed down to XGBoost core.  Or some parameters are not used but slip through this\n",
      "  verification. Please open an issue if you find above cases.\u001b[0m\n",
      "\u001b[34m[0]#011train-error:0.10079#011validation-error:0.10528\u001b[0m\n",
      "\u001b[34m[2022-09-12 21:07:39.150 ip-10-0-167-53.us-east-2.compute.internal:1 INFO hook.py:325] Monitoring the collections: metrics\u001b[0m\n",
      "\u001b[34m[1]#011train-error:0.09968#011validation-error:0.10456\u001b[0m\n",
      "\u001b[34m[2]#011train-error:0.10017#011validation-error:0.10375\u001b[0m\n",
      "\u001b[34m[3]#011train-error:0.09989#011validation-error:0.10310\u001b[0m\n",
      "\u001b[34m[4]#011train-error:0.09996#011validation-error:0.10286\u001b[0m\n",
      "\u001b[34m[5]#011train-error:0.09906#011validation-error:0.10261\u001b[0m\n",
      "\u001b[34m[6]#011train-error:0.09930#011validation-error:0.10286\u001b[0m\n",
      "\u001b[34m[7]#011train-error:0.09951#011validation-error:0.10261\u001b[0m\n",
      "\u001b[34m[8]#011train-error:0.09920#011validation-error:0.10286\u001b[0m\n",
      "\u001b[34m[9]#011train-error:0.09871#011validation-error:0.10294\u001b[0m\n",
      "\u001b[34m[10]#011train-error:0.09868#011validation-error:0.10294\u001b[0m\n",
      "\u001b[34m[11]#011train-error:0.09868#011validation-error:0.10326\u001b[0m\n",
      "\u001b[34m[12]#011train-error:0.09854#011validation-error:0.10358\u001b[0m\n",
      "\u001b[34m[13]#011train-error:0.09892#011validation-error:0.10342\u001b[0m\n",
      "\u001b[34m[14]#011train-error:0.09850#011validation-error:0.10342\u001b[0m\n",
      "\u001b[34m[15]#011train-error:0.09844#011validation-error:0.10326\u001b[0m\n",
      "\u001b[34m[16]#011train-error:0.09857#011validation-error:0.10318\u001b[0m\n",
      "\u001b[34m[17]#011train-error:0.09799#011validation-error:0.10318\u001b[0m\n",
      "\u001b[34m[18]#011train-error:0.09816#011validation-error:0.10383\u001b[0m\n",
      "\u001b[34m[19]#011train-error:0.09857#011validation-error:0.10383\u001b[0m\n",
      "\u001b[34m[20]#011train-error:0.09830#011validation-error:0.10350\u001b[0m\n",
      "\u001b[34m[21]#011train-error:0.09826#011validation-error:0.10318\u001b[0m\n",
      "\u001b[34m[22]#011train-error:0.09847#011validation-error:0.10399\u001b[0m\n",
      "\u001b[34m[23]#011train-error:0.09833#011validation-error:0.10407\u001b[0m\n",
      "\u001b[34m[24]#011train-error:0.09812#011validation-error:0.10415\u001b[0m\n",
      "\u001b[34m[25]#011train-error:0.09812#011validation-error:0.10399\u001b[0m\n",
      "\u001b[34m[26]#011train-error:0.09774#011validation-error:0.10375\u001b[0m\n",
      "\u001b[34m[27]#011train-error:0.09781#011validation-error:0.10375\u001b[0m\n",
      "\u001b[34m[28]#011train-error:0.09781#011validation-error:0.10391\u001b[0m\n",
      "\u001b[34m[29]#011train-error:0.09778#011validation-error:0.10367\u001b[0m\n",
      "\u001b[34m[30]#011train-error:0.09781#011validation-error:0.10383\u001b[0m\n",
      "\u001b[34m[31]#011train-error:0.09771#011validation-error:0.10358\u001b[0m\n",
      "\u001b[34m[32]#011train-error:0.09743#011validation-error:0.10391\u001b[0m\n",
      "\u001b[34m[33]#011train-error:0.09753#011validation-error:0.10342\u001b[0m\n",
      "\u001b[34m[34]#011train-error:0.09767#011validation-error:0.10342\u001b[0m\n",
      "\u001b[34m[35]#011train-error:0.09757#011validation-error:0.10350\u001b[0m\n",
      "\u001b[34m[36]#011train-error:0.09757#011validation-error:0.10342\u001b[0m\n",
      "\u001b[34m[37]#011train-error:0.09736#011validation-error:0.10342\u001b[0m\n",
      "\u001b[34m[38]#011train-error:0.09750#011validation-error:0.10342\u001b[0m\n",
      "\u001b[34m[39]#011train-error:0.09733#011validation-error:0.10350\u001b[0m\n",
      "\u001b[34m[40]#011train-error:0.09705#011validation-error:0.10358\u001b[0m\n",
      "\u001b[34m[41]#011train-error:0.09701#011validation-error:0.10383\u001b[0m\n",
      "\u001b[34m[42]#011train-error:0.09712#011validation-error:0.10407\u001b[0m\n",
      "\u001b[34m[43]#011train-error:0.09698#011validation-error:0.10375\u001b[0m\n",
      "\u001b[34m[44]#011train-error:0.09733#011validation-error:0.10342\u001b[0m\n",
      "\u001b[34m[45]#011train-error:0.09736#011validation-error:0.10367\u001b[0m\n",
      "\u001b[34m[46]#011train-error:0.09746#011validation-error:0.10350\u001b[0m\n",
      "\u001b[34m[47]#011train-error:0.09736#011validation-error:0.10358\u001b[0m\n",
      "\u001b[34m[48]#011train-error:0.09712#011validation-error:0.10334\u001b[0m\n",
      "\u001b[34m[49]#011train-error:0.09712#011validation-error:0.10318\u001b[0m\n",
      "\n",
      "2022-09-12 21:08:06 Completed - Training job completed\n",
      "Training seconds: 77\n",
      "Billable seconds: 19\n",
      "Managed Spot Training savings: 75.3%\n"
     ]
    }
   ],
   "source": [
    "estimator.fit({'train': s3_input_train, 'validation': s3_input_test})"
   ]
  },
  {
   "cell_type": "markdown",
   "id": "05007655",
   "metadata": {},
   "source": [
    "### Deploy Machine Learning Model as Endpoints"
   ]
  },
  {
   "cell_type": "code",
   "execution_count": 59,
   "id": "89f28702",
   "metadata": {},
   "outputs": [
    {
     "name": "stdout",
     "output_type": "stream",
     "text": [
      "-------!"
     ]
    }
   ],
   "source": [
    "xgb_predictor = estimator.deploy(initial_instance_count = 1, instance_type = 'ml.m4.xlarge')"
   ]
  },
  {
   "cell_type": "code",
   "execution_count": 64,
   "id": "cd619864",
   "metadata": {},
   "outputs": [
    {
     "name": "stderr",
     "output_type": "stream",
     "text": [
      "The csv_serializer has been renamed in sagemaker>=2.\n",
      "See: https://sagemaker.readthedocs.io/en/stable/v2.html for details.\n"
     ]
    },
    {
     "name": "stdout",
     "output_type": "stream",
     "text": [
      "(12357,)\n"
     ]
    }
   ],
   "source": [
    "from sagemaker.predictor import csv_serializer\n",
    "test_data_array = test_data.drop(['y_no', 'y_yes'], axis=1).values #load the data into an array\n",
    "# xgb_predictor.content_type = 'text/csv' # set the data type for an inference\n",
    "xgb_predictor.serializer = csv_serializer # set the serializer type\n",
    "predictions = xgb_predictor.predict(test_data_array).decode('utf-8') # predict!\n",
    "predictions_array = np.fromstring(predictions[1:], sep=',') # and turn the prediction into an array\n",
    "print(predictions_array.shape)"
   ]
  },
  {
   "cell_type": "code",
   "execution_count": 65,
   "id": "947c22fa",
   "metadata": {},
   "outputs": [
    {
     "data": {
      "text/plain": [
       "array([0.05214286, 0.05660191, 0.05096195, ..., 0.03436061, 0.02942475,\n",
       "       0.03715819])"
      ]
     },
     "execution_count": 65,
     "metadata": {},
     "output_type": "execute_result"
    }
   ],
   "source": [
    "predictions_array"
   ]
  },
  {
   "cell_type": "code",
   "execution_count": 67,
   "id": "70279d5f",
   "metadata": {},
   "outputs": [
    {
     "name": "stdout",
     "output_type": "stream",
     "text": [
      "\n",
      "Overall Classification Rate: 89.7%\n",
      "\n",
      "Predicted      No Purchase    Purchase\n",
      "Observed\n",
      "No Purchase    91% (10785)    34% (151)\n",
      "Purchase        9% (1124)     66% (297) \n",
      "\n"
     ]
    }
   ],
   "source": [
    "cm = pd.crosstab(index=test_data['y_yes'], columns=np.round(predictions_array), rownames=['Observed'], colnames=['Predicted'])\n",
    "tn = cm.iloc[0,0]; fn = cm.iloc[1,0]; tp = cm.iloc[1,1]; fp = cm.iloc[0,1]; p = (tp+tn)/(tp+tn+fp+fn)*100\n",
    "print(\"\\n{0:<20}{1:<4.1f}%\\n\".format(\"Overall Classification Rate: \", p))\n",
    "print(\"{0:<15}{1:<15}{2:>8}\".format(\"Predicted\", \"No Purchase\", \"Purchase\"))\n",
    "print(\"Observed\")\n",
    "print(\"{0:<15}{1:<2.0f}% ({2:<}){3:>6.0f}% ({4:<})\".format(\"No Purchase\", tn/(tn+fn)*100,tn, fp/(tp+fp)*100, fp))\n",
    "print(\"{0:<16}{1:<1.0f}% ({2:<}){3:>7.0f}% ({4:<}) \\n\".format(\"Purchase\", fn/(tn+fn)*100,fn, tp/(tp+fp)*100, tp))"
   ]
  },
  {
   "cell_type": "code",
   "execution_count": 68,
   "id": "8dbf7ba2",
   "metadata": {},
   "outputs": [
    {
     "name": "stderr",
     "output_type": "stream",
     "text": [
      "The endpoint attribute has been renamed in sagemaker>=2.\n",
      "See: https://sagemaker.readthedocs.io/en/stable/v2.html for details.\n"
     ]
    },
    {
     "data": {
      "text/plain": [
       "[{'ResponseMetadata': {'RequestId': 'AJ48CCQQ97JXNEK4',\n",
       "   'HostId': 'GmzMW32IeWZDJDG4XnLXB+xNS8lDUqySFXx9ZMluarWDe/9EUtrJxBbdlHAre0VAEk/JgHKNqKU=',\n",
       "   'HTTPStatusCode': 200,\n",
       "   'HTTPHeaders': {'x-amz-id-2': 'GmzMW32IeWZDJDG4XnLXB+xNS8lDUqySFXx9ZMluarWDe/9EUtrJxBbdlHAre0VAEk/JgHKNqKU=',\n",
       "    'x-amz-request-id': 'AJ48CCQQ97JXNEK4',\n",
       "    'date': 'Tue, 13 Sep 2022 19:44:53 GMT',\n",
       "    'content-type': 'application/xml',\n",
       "    'transfer-encoding': 'chunked',\n",
       "    'server': 'AmazonS3',\n",
       "    'connection': 'close'},\n",
       "   'RetryAttempts': 0},\n",
       "  'Deleted': [{'Key': 'xgboost-as-a-built-in-algo/output/sagemaker-xgboost-2022-09-12-21-05-22-712/rule-output/ProfilerReport-1663016722/profiler-output/profiler-reports/IOBottleneck.json',\n",
       "    'DeleteMarker': True,\n",
       "    'DeleteMarkerVersionId': 'WRP7uYr4BkBrSCcxUmM_Np5M9szlJpoz'},\n",
       "   {'Key': 'xgboost-as-a-built-in-algo/output/sagemaker-xgboost-2022-09-12-21-05-22-712/rule-output/ProfilerReport-1663016722/profiler-output/profiler-reports/OverallSystemUsage.json',\n",
       "    'DeleteMarker': True,\n",
       "    'DeleteMarkerVersionId': 'aJdwm3of0U.QpoI95oHMCi6WbUEFu3cF'},\n",
       "   {'Key': 'xgboost-as-a-built-in-algo/output/sagemaker-xgboost-2022-09-12-21-05-22-712/debug-output/events/000000000020/000000000020_worker_0.tfevents',\n",
       "    'DeleteMarker': True,\n",
       "    'DeleteMarkerVersionId': 'BIKEbZVr1IPfb5hgkYBT_uSAQq_d2R71'},\n",
       "   {'Key': 'xgboost-as-a-built-in-algo/output/sagemaker-xgboost-2022-09-12-21-05-22-712/debug-output/training_job_end.ts',\n",
       "    'DeleteMarker': True,\n",
       "    'DeleteMarkerVersionId': 'TAzbTXttbcK7KHeHOme23hBeRDxuespQ'},\n",
       "   {'Key': 'xgboost-as-a-built-in-algo/output/sagemaker-xgboost-2022-09-12-21-05-22-712/rule-output/ProfilerReport-1663016722/profiler-output/profiler-reports/MaxInitializationTime.json',\n",
       "    'DeleteMarker': True,\n",
       "    'DeleteMarkerVersionId': 'JIcJu5ncX9u4SM.PEUHgZ7XDwJIKZT8j'},\n",
       "   {'Key': 'xgboost-as-a-built-in-algo/output/sagemaker-xgboost-2022-09-12-21-05-22-712/profiler-output/system/training_job_end.ts',\n",
       "    'DeleteMarker': True,\n",
       "    'DeleteMarkerVersionId': '65lZdCUKUch9YABucw4VrmwA7IRH0uhB'},\n",
       "   {'Key': 'xgboost-as-a-built-in-algo/output/sagemaker-xgboost-2022-09-12-21-05-22-712/rule-output/ProfilerReport-1663016722/profiler-output/profiler-reports/StepOutlier.json',\n",
       "    'DeleteMarker': True,\n",
       "    'DeleteMarkerVersionId': 'MrJux4bY1Auxmz6pxDfFK3iOTL8ORIou'},\n",
       "   {'Key': 'xgboost-as-a-built-in-algo/output/sagemaker-xgboost-2022-09-12-21-05-22-712/profiler-output/framework/training_job_end.ts',\n",
       "    'DeleteMarker': True,\n",
       "    'DeleteMarkerVersionId': 'b2mFsrlpeqdAFUMDaxys.YnZY3H.aamL'},\n",
       "   {'Key': 'xgboost-as-a-built-in-algo/output/sagemaker-xgboost-2022-09-12-21-05-22-712/profiler-output/system/incremental/2022091221/1663016760.algo-1.json',\n",
       "    'DeleteMarker': True,\n",
       "    'DeleteMarkerVersionId': 'rBlpan5sHP2YjB6lpivZ.xd.eGHmRkKS'},\n",
       "   {'Key': 'xgboost-as-a-built-in-algo/test/test.csv',\n",
       "    'DeleteMarker': True,\n",
       "    'DeleteMarkerVersionId': 'imBuNlu3ac4ZLUduD8G4.2eMzwsBYqYi'},\n",
       "   {'Key': 'xgboost-as-a-built-in-algo/output/sagemaker-xgboost-2022-09-12-21-05-22-712/debug-output/index/000000000/000000000020_worker_0.json',\n",
       "    'DeleteMarker': True,\n",
       "    'DeleteMarkerVersionId': 'YB1yVJn6DD8B1nZIZg9PE3uT6Ta9WI1l'},\n",
       "   {'Key': 'xgboost-as-a-built-in-algo/output/sagemaker-xgboost-2022-09-12-21-05-22-712/debug-output/events/000000000000/000000000000_worker_0.tfevents',\n",
       "    'DeleteMarker': True,\n",
       "    'DeleteMarkerVersionId': 'wBgvuHzotR9uo3eqd0ZgFn02Jy1nXFFE'},\n",
       "   {'Key': 'xgboost-as-a-built-in-algo/output/sagemaker-xgboost-2022-09-12-21-05-22-712/rule-output/ProfilerReport-1663016722/profiler-output/profiler-reports/GPUMemoryIncrease.json',\n",
       "    'DeleteMarker': True,\n",
       "    'DeleteMarkerVersionId': 'Hzzcb3oNx7UxIysLpvIDktRBukNImWel'},\n",
       "   {'Key': 'xgboost-as-a-built-in-algo/output/sagemaker-xgboost-2022-09-12-20-46-01-027/profiler-output/system/training_job_end.ts',\n",
       "    'DeleteMarker': True,\n",
       "    'DeleteMarkerVersionId': 'Cs76H57MpElLjyXPNr_FEg05ns.8mpqo'},\n",
       "   {'Key': 'xgboost-as-a-built-in-algo/output/sagemaker-xgboost-2022-09-12-21-05-22-712/rule-output/ProfilerReport-1663016722/profiler-output/profiler-report.html',\n",
       "    'DeleteMarker': True,\n",
       "    'DeleteMarkerVersionId': 'Lt8P4TWtlPZjbXXBhPr_J13XtBRp6DAC'},\n",
       "   {'Key': 'xgboost-as-a-built-in-algo/output/sagemaker-xgboost-2022-09-12-21-05-22-712/debug-output/events/000000000030/000000000030_worker_0.tfevents',\n",
       "    'DeleteMarker': True,\n",
       "    'DeleteMarkerVersionId': '90m7mOD8BzNQA85w_eb3zCxrfm2MKtA4'},\n",
       "   {'Key': 'xgboost-as-a-built-in-algo/output/sagemaker-xgboost-2022-09-12-21-05-22-712/rule-output/ProfilerReport-1663016722/profiler-output/profiler-report.ipynb',\n",
       "    'DeleteMarker': True,\n",
       "    'DeleteMarkerVersionId': 'RdOxRMQq9rwooE7q93xc4Tl.lvm_c8ns'},\n",
       "   {'Key': 'xgboost-as-a-built-in-algo/output/sagemaker-xgboost-2022-09-12-20-46-01-027/profiler-output/framework/training_job_end.ts',\n",
       "    'DeleteMarker': True,\n",
       "    'DeleteMarkerVersionId': 'NVL3EuxHwoAXIegUt0OkoEnAzZ6uKgwi'},\n",
       "   {'Key': 'xgboost-as-a-built-in-algo/output/sagemaker-xgboost-2022-09-12-21-05-22-712/debug-output/events/000000000040/000000000040_worker_0.tfevents',\n",
       "    'DeleteMarker': True,\n",
       "    'DeleteMarkerVersionId': 'uRCTf.LDKXyZGXLhmWjIpR27XiGc2l5m'},\n",
       "   {'Key': 'xgboost-as-a-built-in-algo/output/sagemaker-xgboost-2022-09-12-21-05-22-712/debug-output/index/000000000/000000000000_worker_0.json',\n",
       "    'DeleteMarker': True,\n",
       "    'DeleteMarkerVersionId': 'f5kFWAcQJF4aCqs7UXcVl0y34GDVmXxq'},\n",
       "   {'Key': 'xgboost-as-a-built-in-algo/output/sagemaker-xgboost-2022-09-12-21-05-22-712/debug-output/index/000000000/000000000040_worker_0.json',\n",
       "    'DeleteMarker': True,\n",
       "    'DeleteMarkerVersionId': 'qatWdHoHzqK35eYyvMefp7ncsSdRiavk'},\n",
       "   {'Key': 'xgboost-as-a-built-in-algo/output/sagemaker-xgboost-2022-09-12-21-05-22-712/rule-output/ProfilerReport-1663016722/profiler-output/profiler-reports/BatchSize.json',\n",
       "    'DeleteMarker': True,\n",
       "    'DeleteMarkerVersionId': 'M5wk4NICTWGnBHF5DxtfmKydK1_4.cx.'},\n",
       "   {'Key': 'xgboost-as-a-built-in-algo/output/sagemaker-xgboost-2022-09-12-21-05-22-712/debug-output/collections/000000000/worker_0_collections.json',\n",
       "    'DeleteMarker': True,\n",
       "    'DeleteMarkerVersionId': 'MbmHTDAZ87KraHGCzMt861bt5jD8UITN'},\n",
       "   {'Key': 'xgboost-as-a-built-in-algo/output/sagemaker-xgboost-2022-09-12-21-05-22-712/debug-output/index/000000000/000000000010_worker_0.json',\n",
       "    'DeleteMarker': True,\n",
       "    'DeleteMarkerVersionId': 'Z1zAPpn8crpfX3rtQV4hvT8ShX9CR4H9'},\n",
       "   {'Key': 'xgboost-as-a-built-in-algo/output/sagemaker-xgboost-2022-09-12-20-46-01-027/profiler-output/system/incremental/2022091220/1663015620.algo-1.json',\n",
       "    'DeleteMarker': True,\n",
       "    'DeleteMarkerVersionId': 'OWJ9w.16bcpL7bnF77D_oGw.evZ4WBEh'},\n",
       "   {'Key': 'xgboost-as-a-built-in-algo/output/sagemaker-xgboost-2022-09-12-21-05-22-712/rule-output/ProfilerReport-1663016722/profiler-output/profiler-reports/Dataloader.json',\n",
       "    'DeleteMarker': True,\n",
       "    'DeleteMarkerVersionId': '8LEy11XXYUuU4Kgi68VmpZZ0SM6p0x_Y'},\n",
       "   {'Key': 'xgboost-as-a-built-in-algo/output/sagemaker-xgboost-2022-09-12-21-05-22-712/rule-output/ProfilerReport-1663016722/profiler-output/profiler-reports/CPUBottleneck.json',\n",
       "    'DeleteMarker': True,\n",
       "    'DeleteMarkerVersionId': '_NvtLIVRms0nk4UoYP3o84n67M0Sk_aX'},\n",
       "   {'Key': 'xgboost-as-a-built-in-algo/output/sagemaker-xgboost-2022-09-12-21-05-22-712/profiler-output/system/incremental/2022091221/1663016820.algo-1.json',\n",
       "    'DeleteMarker': True,\n",
       "    'DeleteMarkerVersionId': '30f6YAOiSBE2WWuXdVOdqg681DdpMkZY'},\n",
       "   {'Key': 'xgboost-as-a-built-in-algo/output/sagemaker-xgboost-2022-09-12-21-05-22-712/debug-output/events/000000000010/000000000010_worker_0.tfevents',\n",
       "    'DeleteMarker': True,\n",
       "    'DeleteMarkerVersionId': 'REN2Kacpg6V8v8DSn.5MonMuTeaPfyxe'},\n",
       "   {'Key': 'xgboost-as-a-built-in-algo/output/sagemaker-xgboost-2022-09-12-21-05-22-712/rule-output/ProfilerReport-1663016722/profiler-output/profiler-reports/LoadBalancing.json',\n",
       "    'DeleteMarker': True,\n",
       "    'DeleteMarkerVersionId': 'OJpaaxicqCVz6WWu3mUTG_GjvC_K2MTO'},\n",
       "   {'Key': 'xgboost-as-a-built-in-algo/output/sagemaker-xgboost-2022-09-12-20-46-01-027/debug-output/training_job_end.ts',\n",
       "    'DeleteMarker': True,\n",
       "    'DeleteMarkerVersionId': '48AAXlp.GuD3Mqdjpg3PigrOShWXh6ne'},\n",
       "   {'Key': 'xgboost-as-a-built-in-algo/output/sagemaker-xgboost-2022-09-12-21-05-22-712/output/model.tar.gz',\n",
       "    'DeleteMarker': True,\n",
       "    'DeleteMarkerVersionId': 'By5OCcYaS2axE7NKbEAp1ehK4juFfN2L'},\n",
       "   {'Key': 'xgboost-as-a-built-in-algo/train/train.csv',\n",
       "    'DeleteMarker': True,\n",
       "    'DeleteMarkerVersionId': 'QPwsL4RuxvxA9rQy9DVGGohnpqNDJ9DD'},\n",
       "   {'Key': 'xgboost-as-a-built-in-algo/output/sagemaker-xgboost-2022-09-12-20-46-01-027/profiler-output/system/incremental/2022091220/1663015680.algo-1.json',\n",
       "    'DeleteMarker': True,\n",
       "    'DeleteMarkerVersionId': 'twNwCGjquhl1QEwXVmaE2WL7HmiPQpik'},\n",
       "   {'Key': 'xgboost-as-a-built-in-algo/output/sagemaker-xgboost-2022-09-12-21-05-22-712/rule-output/ProfilerReport-1663016722/profiler-output/profiler-reports/OverallFrameworkMetrics.json',\n",
       "    'DeleteMarker': True,\n",
       "    'DeleteMarkerVersionId': 'Nvp5xEN6vHLmi.bMmfyT0Zg7DCyCinZd'},\n",
       "   {'Key': 'xgboost-as-a-built-in-algo/output/sagemaker-xgboost-2022-09-12-21-05-22-712/debug-output/index/000000000/000000000030_worker_0.json',\n",
       "    'DeleteMarker': True,\n",
       "    'DeleteMarkerVersionId': 'phHGZI6X.8xAQgkqnztKM2e_rbTYN2Rc'},\n",
       "   {'Key': 'xgboost-as-a-built-in-algo/output/sagemaker-xgboost-2022-09-12-21-05-22-712/rule-output/ProfilerReport-1663016722/profiler-output/profiler-reports/LowGPUUtilization.json',\n",
       "    'DeleteMarker': True,\n",
       "    'DeleteMarkerVersionId': 'R4roWpr37OqrXJDngvvWnT2uBJ9YqVwN'}]}]"
      ]
     },
     "execution_count": 68,
     "metadata": {},
     "output_type": "execute_result"
    }
   ],
   "source": [
    "sagemaker.Session().delete_endpoint(xgb_predictor.endpoint)\n",
    "bucket_to_delete = boto3.resource('s3').Bucket(bucket_name)\n",
    "bucket_to_delete.objects.all().delete()"
   ]
  },
  {
   "cell_type": "code",
   "execution_count": null,
   "id": "d105c543",
   "metadata": {},
   "outputs": [],
   "source": []
  }
 ],
 "metadata": {
  "kernelspec": {
   "display_name": "conda_python3",
   "language": "python",
   "name": "conda_python3"
  },
  "language_info": {
   "codemirror_mode": {
    "name": "ipython",
    "version": 3
   },
   "file_extension": ".py",
   "mimetype": "text/x-python",
   "name": "python",
   "nbconvert_exporter": "python",
   "pygments_lexer": "ipython3",
   "version": "3.8.12"
  }
 },
 "nbformat": 4,
 "nbformat_minor": 5
}
